{
  "cells": [
    {
      "cell_type": "markdown",
      "metadata": {
        "id": "view-in-github",
        "colab_type": "text"
      },
      "source": [
        "<a href=\"https://colab.research.google.com/github/manishalmbhen/Data-Science-/blob/pyhton-for-data-science/List_python.ipynb\" target=\"_parent\"><img src=\"https://colab.research.google.com/assets/colab-badge.svg\" alt=\"Open In Colab\"/></a>"
      ]
    },
    {
      "cell_type": "markdown",
      "source": [
        "Python Lists"
      ],
      "metadata": {
        "id": "ClXCuPvZslO4"
      },
      "id": "ClXCuPvZslO4"
    },
    {
      "cell_type": "code",
      "source": [
        "music = [\"classical\", \"rock\", \"jazz\"]\n",
        "print(music)\n",
        "\n",
        "music = [\"classical\", \"rock\", \"jazz\"]\n",
        "print(len(music))\n",
        "\n",
        "music_genre = [\"classical\", \"rock\", \"jazz\"]\n",
        "music_list = [1, 5, 7, 9]\n",
        "muisc_status = [True, False, False]\n",
        "\n",
        "print(music_genre, music_list, muisc_status)\n",
        "\n",
        "music = [\"romantic_songs\", 34, \"sad_songs\", 40, \"sentimental_songs\", 20]\n",
        "print(music)\n",
        "\n",
        "music = [\"classical\", \"rock\", \"jazz\"]\n",
        "print(type(music))\n",
        "\n",
        "music = list((\"classical\", \"rock\", \"jazz\")) # note the double round-brackets\n",
        "print(music)\n",
        "\n",
        "\n",
        "\n",
        "\n"
      ],
      "metadata": {
        "colab": {
          "base_uri": "https://localhost:8080/"
        },
        "id": "0VAGJAIDpRcZ",
        "outputId": "2ead66fb-95dc-4389-9a2c-c6b0660f0c6a"
      },
      "id": "0VAGJAIDpRcZ",
      "execution_count": null,
      "outputs": [
        {
          "output_type": "stream",
          "name": "stdout",
          "text": [
            "['classical', 'rock', 'jazz']\n",
            "3\n",
            "['classical', 'rock', 'jazz'] [1, 5, 7, 9] [True, False, False]\n",
            "['romantic_songs', 34, 'sad_songs', 40, 'sentimental_songs', 20]\n",
            "<class 'list'>\n",
            "['classical', 'rock', 'jazz']\n"
          ]
        }
      ]
    },
    {
      "cell_type": "markdown",
      "source": [
        "Access List Items"
      ],
      "metadata": {
        "id": "6ZGKcjcSsam8"
      },
      "id": "6ZGKcjcSsam8"
    },
    {
      "cell_type": "code",
      "source": [
        "music_genre = [\"classical\", \"rock\", \"jazz\", \"folk\", \"heavey metal\", \"pop\"]\n",
        "print(music_genre[:4])\n",
        "\n",
        "music_genre = [\"classical\", \"rock\", \"jazz\", \"folk\", \"heavey metal\", \"pop\"]\n",
        "print(music_genre[2:])\n",
        "\n",
        "music_genre = [\"classical\", \"rock\", \"jazz\", \"folk\", \"heavey metal\", \"pop\"]\n",
        "print(music_genre[-4:-1])\n",
        "\n",
        "music_genre = [\"classical\", \"rock\", \"jazz\", \"folk\", \"heavey metal\", \"pop\"]\n",
        "if \"classical\" in music_genre:\n",
        "  print(\"Yes, 'classical' is in the music_genre list\")"
      ],
      "metadata": {
        "id": "W6xLEVFbshrF",
        "outputId": "a8ac2088-a9e9-443a-fe77-a350ab9c8798",
        "colab": {
          "base_uri": "https://localhost:8080/"
        }
      },
      "id": "W6xLEVFbshrF",
      "execution_count": 3,
      "outputs": [
        {
          "output_type": "stream",
          "name": "stdout",
          "text": [
            "['classical', 'rock', 'jazz', 'folk']\n",
            "['jazz', 'folk', 'heavey metal', 'pop']\n",
            "['jazz', 'folk', 'heavey metal']\n",
            "Yes, 'classical' is in the music_genre list\n"
          ]
        }
      ]
    },
    {
      "cell_type": "markdown",
      "source": [
        "Chnage List Items"
      ],
      "metadata": {
        "id": "EXCe-Rh1tu9q"
      },
      "id": "EXCe-Rh1tu9q"
    },
    {
      "cell_type": "code",
      "source": [
        "music_genre = [\"classical\", \"rock\", \"jazz\", \"folk\", \"heavey metal\", \"pop\"]\n",
        "music_genre[1] = \"hip hop\"\n",
        "print(music_genre)\n",
        "\n",
        "music_genre = [\"classical\", \"rock\", \"jazz\", \"folk\", \"heavey metal\", \"pop\"]\n",
        "music_genre[1:3] = [\"electronic music\", \"country music\"]\n",
        "print(music_genre)\n",
        "\n",
        "music_genre = [\"classical\", \"rock\", \"jazz\", \"folk\", \"heavey metal\", \"pop\"]\n",
        "music_genre[1:2] = [\"blue\", \"soul music\", \"funk\"]\n",
        "print(music_genre)\n",
        "\n",
        "music_genre = [\"classical\", \"rock\", \"jazz\", \"folk\", \"heavey metal\", \"pop\"]\n",
        "music_genre[1:3] = [\"disco\"]\n",
        "print(music_genre)\n",
        "\n",
        "music_genre = [\"classical\", \"rock\", \"jazz\", \"folk\", \"heavey metal\", \"pop\"]\n",
        "music_genre.insert(3, \"latin music\")\n",
        "print(music_genre)\n"
      ],
      "metadata": {
        "id": "gHtk4Auvt9gd",
        "outputId": "226e0e5d-02a0-486a-e905-d7875db58f40",
        "colab": {
          "base_uri": "https://localhost:8080/"
        }
      },
      "id": "gHtk4Auvt9gd",
      "execution_count": 4,
      "outputs": [
        {
          "output_type": "stream",
          "name": "stdout",
          "text": [
            "['classical', 'hip hop', 'jazz', 'folk', 'heavey metal', 'pop']\n",
            "['classical', 'electronic music', 'country music', 'folk', 'heavey metal', 'pop']\n",
            "['classical', 'blue', 'soul music', 'funk', 'jazz', 'folk', 'heavey metal', 'pop']\n",
            "['classical', 'disco', 'folk', 'heavey metal', 'pop']\n",
            "['classical', 'rock', 'jazz', 'latin music', 'folk', 'heavey metal', 'pop']\n"
          ]
        }
      ]
    },
    {
      "cell_type": "markdown",
      "source": [
        "Add List Items"
      ],
      "metadata": {
        "id": "Eo5VVyLpxFlD"
      },
      "id": "Eo5VVyLpxFlD"
    },
    {
      "cell_type": "code",
      "source": [
        "music_genre = [\"classical\", \"rock\", \"jazz\", \"folk\", \"heavey metal\", \"pop\"]\n",
        "music_genre.append(\"dance music\")\n",
        "print(music_genre)\n",
        "\n",
        "music_genre = [\"classical\", \"rock\", \"jazz\", \"folk\", \"heavey metal\", \"pop\"]\n",
        "music_genre.insert(1, \"new age muisc\")\n",
        "print(music_genre)\n",
        "\n",
        "western_music_genre = [\"rock\", \"pop\", \"jazz\"]\n",
        "indian_music_genre = [\"classical\", \"folk\"]\n",
        "western_music_genre.extend(indian_music_genre)\n",
        "print(western_music_genre)\n",
        "\n",
        "\n"
      ],
      "metadata": {
        "id": "nAfPxqqgxLVT",
        "outputId": "460729bc-b360-41eb-caa7-a78da71a1efc",
        "colab": {
          "base_uri": "https://localhost:8080/"
        }
      },
      "id": "nAfPxqqgxLVT",
      "execution_count": 5,
      "outputs": [
        {
          "output_type": "stream",
          "name": "stdout",
          "text": [
            "['classical', 'rock', 'jazz', 'folk', 'heavey metal', 'pop', 'dance music']\n",
            "['classical', 'new age muisc', 'rock', 'jazz', 'folk', 'heavey metal', 'pop']\n",
            "['rock', 'pop', 'jazz', 'classical', 'folk']\n"
          ]
        }
      ]
    },
    {
      "cell_type": "markdown",
      "source": [
        "Remove List Items"
      ],
      "metadata": {
        "id": "czo8bdGbzs_4"
      },
      "id": "czo8bdGbzs_4"
    },
    {
      "cell_type": "code",
      "source": [
        "music_genre = [\"classical\", \"rock\", \"jazz\", \"folk\", \"heavey metal\", \"pop\"]\n",
        "music_genre.remove(\"rock\")\n",
        "print(music_genre)\n",
        "\n",
        "music_genre = [\"classical\", \"rock\", \"jazz\", \"folk\", \"heavey metal\", \"pop\"]\n",
        "music_genre.pop(1)\n",
        "print(music_genre)\n",
        "\n",
        "music_genre = [\"classical\", \"rock\", \"jazz\", \"folk\", \"heavey metal\"]\n",
        "music_genre.pop()\n",
        "print(music_genre)\n",
        "\n",
        "music_genre = [\"classical\", \"rock\", \"jazz\", \"folk\", \"heavey metal\", \"pop\"]\n",
        "del music_genre[0]\n",
        "print(music_genre)\n",
        "\n",
        "music_genre = [\"classical\", \"rock\", \"jazz\", \"folk\", \"heavey metal\", \"pop\"]\n",
        "music_genre.clear()\n",
        "print(music_genre)"
      ],
      "metadata": {
        "id": "TT6vLEzpzzvg",
        "outputId": "8646f06e-5390-4d69-be65-f572f4977733",
        "colab": {
          "base_uri": "https://localhost:8080/"
        }
      },
      "id": "TT6vLEzpzzvg",
      "execution_count": 6,
      "outputs": [
        {
          "output_type": "stream",
          "name": "stdout",
          "text": [
            "['classical', 'jazz', 'folk', 'heavey metal', 'pop']\n",
            "['classical', 'jazz', 'folk', 'heavey metal', 'pop']\n",
            "['classical', 'rock', 'jazz', 'folk']\n",
            "['rock', 'jazz', 'folk', 'heavey metal', 'pop']\n",
            "[]\n"
          ]
        }
      ]
    },
    {
      "cell_type": "markdown",
      "source": [
        "Loop List"
      ],
      "metadata": {
        "id": "Q1K9lSk91zy2"
      },
      "id": "Q1K9lSk91zy2"
    },
    {
      "cell_type": "code",
      "source": [
        "music_genre = [\"classical\", \"rock\", \"jazz\", \"  \"]\n",
        "for x in music_genre:\n",
        "  print(x)\n",
        "\n",
        "music_genre = [\"classical\", \"rock\", \"jazz\", \"  \"]\n",
        "for i in range(len(music_genre)):\n",
        "  print(music_genre[i])\n",
        "\n",
        "music_genre = [\"classical\", \"rock\", \"jazz\", \"  \"]\n",
        "i = 0\n",
        "while i < len(music_genre):\n",
        "  print(music_genre[i])\n",
        "  i = i + 1\n",
        "\n",
        "music_genre = [\"classical\", \"rock\", \"jazz\", \"  \"]\n",
        "[print(x) for x in music_genre]"
      ],
      "metadata": {
        "id": "5rgNG1cY14Cz",
        "outputId": "7de5ee54-75b2-448a-8ad7-b2541a1e0a02",
        "colab": {
          "base_uri": "https://localhost:8080/"
        }
      },
      "id": "5rgNG1cY14Cz",
      "execution_count": 7,
      "outputs": [
        {
          "output_type": "stream",
          "name": "stdout",
          "text": [
            "classical\n",
            "rock\n",
            "jazz\n",
            "  \n",
            "classical\n",
            "rock\n",
            "jazz\n",
            "  \n",
            "classical\n",
            "rock\n",
            "jazz\n",
            "  \n",
            "classical\n",
            "rock\n",
            "jazz\n",
            "  \n"
          ]
        },
        {
          "output_type": "execute_result",
          "data": {
            "text/plain": [
              "[None, None, None, None]"
            ]
          },
          "metadata": {},
          "execution_count": 7
        }
      ]
    }
  ],
  "metadata": {
    "kernelspec": {
      "display_name": "Python 3",
      "name": "python3"
    },
    "language_info": {
      "name": "python"
    },
    "colab": {
      "provenance": [],
      "name": "List_python",
      "include_colab_link": true
    }
  },
  "nbformat": 4,
  "nbformat_minor": 5
}
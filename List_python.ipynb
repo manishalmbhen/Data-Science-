{
  "cells": [
    {
      "cell_type": "markdown",
      "metadata": {
        "id": "view-in-github",
        "colab_type": "text"
      },
      "source": [
        "<a href=\"https://colab.research.google.com/github/manishalmbhen/Data-Science-/blob/pyhton-for-data-science/List_python.ipynb\" target=\"_parent\"><img src=\"https://colab.research.google.com/assets/colab-badge.svg\" alt=\"Open In Colab\"/></a>"
      ]
    },
    {
      "cell_type": "code",
      "source": [
        "input_list =  [['SAS','R'],['Tableau','SQL'],['Python','Java']]\n",
        "print(input_list)"
      ],
      "metadata": {
        "colab": {
          "base_uri": "https://localhost:8080/"
        },
        "id": "G-XQvffWkpPl",
        "outputId": "9638e0e5-15dd-4e84-dfc6-f52c962e414f"
      },
      "id": "G-XQvffWkpPl",
      "execution_count": null,
      "outputs": [
        {
          "output_type": "stream",
          "name": "stdout",
          "text": [
            "[['SAS', 'R'], ['Tableau', 'SQL'], ['Python', 'Java']]\n"
          ]
        }
      ]
    },
    {
      "cell_type": "code",
      "source": [
        "music = [\"classical\", \"rock\", \"jazz\"]\n",
        "print(music)\n",
        "\n",
        "music = [\"classical\", \"rock\", \"jazz\"]\n",
        "print(len(music))\n",
        "\n",
        "music_genre = [\"classical\", \"rock\", \"jazz\"]\n",
        "music_list = [1, 5, 7, 9]\n",
        "muisc_status = [True, False, False]\n",
        "\n",
        "print(music_genre, music_list, muisc_status)\n",
        "\n",
        "music = [\"romantic_songs\", 34, \"sad_songs\", 40, \"sentimental_songs\", 20]\n",
        "print(music)\n",
        "\n",
        "music = [\"classical\", \"rock\", \"jazz\"]\n",
        "print(type(music))\n",
        "\n",
        "music = list((\"classical\", \"rock\", \"jazz\")) # note the double round-brackets\n",
        "print(music)\n",
        "\n",
        "\n",
        "\n",
        "\n"
      ],
      "metadata": {
        "colab": {
          "base_uri": "https://localhost:8080/"
        },
        "id": "0VAGJAIDpRcZ",
        "outputId": "2ead66fb-95dc-4389-9a2c-c6b0660f0c6a"
      },
      "id": "0VAGJAIDpRcZ",
      "execution_count": null,
      "outputs": [
        {
          "output_type": "stream",
          "name": "stdout",
          "text": [
            "['classical', 'rock', 'jazz']\n",
            "3\n",
            "['classical', 'rock', 'jazz'] [1, 5, 7, 9] [True, False, False]\n",
            "['romantic_songs', 34, 'sad_songs', 40, 'sentimental_songs', 20]\n",
            "<class 'list'>\n",
            "['classical', 'rock', 'jazz']\n"
          ]
        }
      ]
    },
    {
      "cell_type": "code",
      "source": [],
      "metadata": {
        "id": "14JDCxqnpXXG"
      },
      "id": "14JDCxqnpXXG",
      "execution_count": null,
      "outputs": []
    }
  ],
  "metadata": {
    "kernelspec": {
      "display_name": "Python 3",
      "name": "python3"
    },
    "language_info": {
      "name": "python"
    },
    "colab": {
      "provenance": [],
      "name": "List_python",
      "include_colab_link": true
    }
  },
  "nbformat": 4,
  "nbformat_minor": 5
}
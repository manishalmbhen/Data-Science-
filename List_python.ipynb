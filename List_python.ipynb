{
  "cells": [
    {
      "cell_type": "markdown",
      "metadata": {
        "id": "view-in-github",
        "colab_type": "text"
      },
      "source": [
        "<a href=\"https://colab.research.google.com/github/manishalmbhen/Data-Science-/blob/pyhton-for-data-science/List_python.ipynb\" target=\"_parent\"><img src=\"https://colab.research.google.com/assets/colab-badge.svg\" alt=\"Open In Colab\"/></a>"
      ]
    },
    {
      "cell_type": "markdown",
      "source": [
        "# `**Python Lists **`"
      ],
      "metadata": {
        "id": "ClXCuPvZslO4"
      },
      "id": "ClXCuPvZslO4"
    },
    {
      "cell_type": "code",
      "source": [
        "music = [\"classical\", \"rock\", \"jazz\"]\n",
        "print(music)\n",
        "\n",
        "music = [\"classical\", \"rock\", \"jazz\"]\n",
        "print(len(music))\n",
        "\n",
        "music_genre = [\"classical\", \"rock\", \"jazz\"]\n",
        "music_list = [1, 5, 7, 9]\n",
        "muisc_status = [True, False, False]\n",
        "\n",
        "print(music_genre, music_list, muisc_status)\n",
        "\n",
        "music = [\"romantic_songs\", 34, \"sad_songs\", 40, \"sentimental_songs\", 20]\n",
        "print(music)\n",
        "\n",
        "music = [\"classical\", \"rock\", \"jazz\"]\n",
        "print(type(music))\n",
        "\n",
        "music = list((\"classical\", \"rock\", \"jazz\")) # note the double round-brackets\n",
        "print(music)\n",
        "\n",
        "\n",
        "\n",
        "\n"
      ],
      "metadata": {
        "colab": {
          "base_uri": "https://localhost:8080/"
        },
        "id": "0VAGJAIDpRcZ",
        "outputId": "2ead66fb-95dc-4389-9a2c-c6b0660f0c6a"
      },
      "id": "0VAGJAIDpRcZ",
      "execution_count": null,
      "outputs": [
        {
          "output_type": "stream",
          "name": "stdout",
          "text": [
            "['classical', 'rock', 'jazz']\n",
            "3\n",
            "['classical', 'rock', 'jazz'] [1, 5, 7, 9] [True, False, False]\n",
            "['romantic_songs', 34, 'sad_songs', 40, 'sentimental_songs', 20]\n",
            "<class 'list'>\n",
            "['classical', 'rock', 'jazz']\n"
          ]
        }
      ]
    },
    {
      "cell_type": "markdown",
      "source": [
        "Access List Items"
      ],
      "metadata": {
        "id": "6ZGKcjcSsam8"
      },
      "id": "6ZGKcjcSsam8"
    },
    {
      "cell_type": "code",
      "source": [
        "music_genre = [\"classical\", \"rock\", \"jazz\", \"folk\", \"heavey metal\", \"pop\"]\n",
        "print(music_genre[:4])\n",
        "\n",
        "music_genre = [\"classical\", \"rock\", \"jazz\", \"folk\", \"heavey metal\", \"pop\"]\n",
        "print(music_genre[2:])\n",
        "\n",
        "music_genre = [\"classical\", \"rock\", \"jazz\", \"folk\", \"heavey metal\", \"pop\"]\n",
        "print(music_genre[-4:-1])\n",
        "\n",
        "music_genre = [\"classical\", \"rock\", \"jazz\", \"folk\", \"heavey metal\", \"pop\"]\n",
        "if \"classical\" in music_genre:\n",
        "  print(\"Yes, 'classical' is in the music_genre list\")"
      ],
      "metadata": {
        "colab": {
          "base_uri": "https://localhost:8080/"
        },
        "id": "W6xLEVFbshrF",
        "outputId": "a8ac2088-a9e9-443a-fe77-a350ab9c8798"
      },
      "id": "W6xLEVFbshrF",
      "execution_count": 3,
      "outputs": [
        {
          "output_type": "stream",
          "name": "stdout",
          "text": [
            "['classical', 'rock', 'jazz', 'folk']\n",
            "['jazz', 'folk', 'heavey metal', 'pop']\n",
            "['jazz', 'folk', 'heavey metal']\n",
            "Yes, 'classical' is in the music_genre list\n"
          ]
        }
      ]
    },
    {
      "cell_type": "markdown",
      "source": [
        "# `**Chnage List Items **`"
      ],
      "metadata": {
        "id": "EXCe-Rh1tu9q"
      },
      "id": "EXCe-Rh1tu9q"
    },
    {
      "cell_type": "code",
      "source": [
        "music_genre = [\"classical\", \"rock\", \"jazz\", \"folk\", \"heavey metal\", \"pop\"]\n",
        "music_genre[1] = \"hip hop\"\n",
        "print(music_genre)\n",
        "\n",
        "music_genre = [\"classical\", \"rock\", \"jazz\", \"folk\", \"heavey metal\", \"pop\"]\n",
        "music_genre[1:3] = [\"electronic music\", \"country music\"]\n",
        "print(music_genre)\n",
        "\n",
        "music_genre = [\"classical\", \"rock\", \"jazz\", \"folk\", \"heavey metal\", \"pop\"]\n",
        "music_genre[1:2] = [\"blue\", \"soul music\", \"funk\"]\n",
        "print(music_genre)\n",
        "\n",
        "music_genre = [\"classical\", \"rock\", \"jazz\", \"folk\", \"heavey metal\", \"pop\"]\n",
        "music_genre[1:3] = [\"disco\"]\n",
        "print(music_genre)\n",
        "\n",
        "music_genre = [\"classical\", \"rock\", \"jazz\", \"folk\", \"heavey metal\", \"pop\"]\n",
        "music_genre.insert(3, \"latin music\")\n",
        "print(music_genre)\n"
      ],
      "metadata": {
        "colab": {
          "base_uri": "https://localhost:8080/"
        },
        "id": "gHtk4Auvt9gd",
        "outputId": "226e0e5d-02a0-486a-e905-d7875db58f40"
      },
      "id": "gHtk4Auvt9gd",
      "execution_count": 4,
      "outputs": [
        {
          "output_type": "stream",
          "name": "stdout",
          "text": [
            "['classical', 'hip hop', 'jazz', 'folk', 'heavey metal', 'pop']\n",
            "['classical', 'electronic music', 'country music', 'folk', 'heavey metal', 'pop']\n",
            "['classical', 'blue', 'soul music', 'funk', 'jazz', 'folk', 'heavey metal', 'pop']\n",
            "['classical', 'disco', 'folk', 'heavey metal', 'pop']\n",
            "['classical', 'rock', 'jazz', 'latin music', 'folk', 'heavey metal', 'pop']\n"
          ]
        }
      ]
    },
    {
      "cell_type": "markdown",
      "source": [
        "# `**Add List Items **`"
      ],
      "metadata": {
        "id": "Eo5VVyLpxFlD"
      },
      "id": "Eo5VVyLpxFlD"
    },
    {
      "cell_type": "code",
      "source": [
        "music_genre = [\"classical\", \"rock\", \"jazz\", \"folk\", \"heavey metal\", \"pop\"]\n",
        "music_genre.append(\"dance music\")\n",
        "print(music_genre)\n",
        "\n",
        "music_genre = [\"classical\", \"rock\", \"jazz\", \"folk\", \"heavey metal\", \"pop\"]\n",
        "music_genre.insert(1, \"new age music\")\n",
        "print(music_genre)\n",
        "\n",
        "western_music_genre = [\"rock\", \"pop\", \"jazz\"]\n",
        "indian_music_genre = [\"classical\", \"folk\"]\n",
        "western_music_genre.extend(indian_music_genre)\n",
        "print(western_music_genre)\n",
        "\n",
        "\n"
      ],
      "metadata": {
        "colab": {
          "base_uri": "https://localhost:8080/"
        },
        "id": "nAfPxqqgxLVT",
        "outputId": "426e7e4e-7472-475e-a246-5f83d57119b4"
      },
      "id": "nAfPxqqgxLVT",
      "execution_count": 1,
      "outputs": [
        {
          "output_type": "stream",
          "name": "stdout",
          "text": [
            "['classical', 'rock', 'jazz', 'folk', 'heavey metal', 'pop', 'dance music']\n",
            "['classical', 'new age music', 'rock', 'jazz', 'folk', 'heavey metal', 'pop']\n",
            "['rock', 'pop', 'jazz', 'classical', 'folk']\n"
          ]
        }
      ]
    },
    {
      "cell_type": "markdown",
      "source": [
        "# `**Remove List Items **`"
      ],
      "metadata": {
        "id": "czo8bdGbzs_4"
      },
      "id": "czo8bdGbzs_4"
    },
    {
      "cell_type": "code",
      "source": [
        "music_genre = [\"classical\", \"rock\", \"jazz\", \"folk\", \"heavey metal\", \"pop\"]\n",
        "music_genre.remove(\"rock\")\n",
        "print(music_genre)\n",
        "\n",
        "music_genre = [\"classical\", \"rock\", \"jazz\", \"folk\", \"heavey metal\", \"pop\"]\n",
        "music_genre.pop(1)\n",
        "print(music_genre)\n",
        "\n",
        "music_genre = [\"classical\", \"rock\", \"jazz\", \"folk\", \"heavey metal\"]\n",
        "music_genre.pop()\n",
        "print(music_genre)\n",
        "\n",
        "music_genre = [\"classical\", \"rock\", \"jazz\", \"folk\", \"heavey metal\", \"pop\"]\n",
        "del music_genre[0]\n",
        "print(music_genre)\n",
        "\n",
        "music_genre = [\"classical\", \"rock\", \"jazz\", \"folk\", \"heavey metal\", \"pop\"]\n",
        "music_genre.clear()\n",
        "print(music_genre)"
      ],
      "metadata": {
        "colab": {
          "base_uri": "https://localhost:8080/"
        },
        "id": "TT6vLEzpzzvg",
        "outputId": "8646f06e-5390-4d69-be65-f572f4977733"
      },
      "id": "TT6vLEzpzzvg",
      "execution_count": 6,
      "outputs": [
        {
          "output_type": "stream",
          "name": "stdout",
          "text": [
            "['classical', 'jazz', 'folk', 'heavey metal', 'pop']\n",
            "['classical', 'jazz', 'folk', 'heavey metal', 'pop']\n",
            "['classical', 'rock', 'jazz', 'folk']\n",
            "['rock', 'jazz', 'folk', 'heavey metal', 'pop']\n",
            "[]\n"
          ]
        }
      ]
    },
    {
      "cell_type": "markdown",
      "source": [
        "# ***`Loop List `***"
      ],
      "metadata": {
        "id": "Q1K9lSk91zy2"
      },
      "id": "Q1K9lSk91zy2"
    },
    {
      "cell_type": "code",
      "source": [
        "music_genre = [\"classical\", \"rock\", \"jazz\", \"  \"]\n",
        "for x in music_genre:\n",
        "  print(x)\n",
        "\n",
        "music_genre = [\"classical\", \"rock\", \"jazz\", \"  \"]\n",
        "for i in range(len(music_genre)):\n",
        "  print(music_genre[i])\n",
        "\n",
        "music_genre = [\"classical\", \"rock\", \"jazz\", \"  \"]\n",
        "i = 0\n",
        "while i < len(music_genre):\n",
        "  print(music_genre[i])\n",
        "  i = i + 1\n",
        "\n",
        "music_genre = [\"classical\", \"rock\", \"jazz\", \"  \"]\n",
        "[print(x) for x in music_genre]"
      ],
      "metadata": {
        "colab": {
          "base_uri": "https://localhost:8080/"
        },
        "id": "5rgNG1cY14Cz",
        "outputId": "7de5ee54-75b2-448a-8ad7-b2541a1e0a02"
      },
      "id": "5rgNG1cY14Cz",
      "execution_count": 7,
      "outputs": [
        {
          "output_type": "stream",
          "name": "stdout",
          "text": [
            "classical\n",
            "rock\n",
            "jazz\n",
            "  \n",
            "classical\n",
            "rock\n",
            "jazz\n",
            "  \n",
            "classical\n",
            "rock\n",
            "jazz\n",
            "  \n",
            "classical\n",
            "rock\n",
            "jazz\n",
            "  \n"
          ]
        },
        {
          "output_type": "execute_result",
          "data": {
            "text/plain": [
              "[None, None, None, None]"
            ]
          },
          "metadata": {},
          "execution_count": 7
        }
      ]
    },
    {
      "cell_type": "markdown",
      "source": [
        "# **`List Comprehension `**\n"
      ],
      "metadata": {
        "id": "jrfmn5AYgkpc"
      },
      "id": "jrfmn5AYgkpc"
    },
    {
      "cell_type": "code",
      "source": [
        "music_genre = [\"classical\", \"rock\", \"jazz\", \"folk\", \"heavey metal\", \"pop\"]\n",
        "genrelist = []\n",
        "\n",
        "for x in music_genre:\n",
        "  if \"a\" in x:\n",
        "    genrelist.append(x)\n",
        "print(genrelist)\n",
        "\n",
        "genrelist = [x for x in music_genre if \"a\" in x]\n",
        "print(genrelist)\n",
        "\n",
        "genrelist = [x for x in music_genre if x != \"apple\"]\n",
        "print(genrelist)\n",
        "\n",
        "genrelist = [x for x in music_genre]\n",
        "print(genrelist)\n",
        "\n",
        "genrelist = [x for x in range(10)]\n",
        "print(genrelist)\n",
        "\n",
        "genrelist = [x for x in range(10) if x < 5]\n",
        "print(genrelist)\n",
        "\n",
        "\n",
        "genrelist = [x.upper() for x in music_genre]\n",
        "print(genrelist)\n",
        "\n",
        "genrelist = ['hello' for x in music_genre]\n",
        "print(music_genre)\n",
        "\n",
        "genrelist = [x if x != \"banana\" else \"orange\" for x in music_genre]\n",
        "print(genrelist)\n",
        "\n"
      ],
      "metadata": {
        "colab": {
          "base_uri": "https://localhost:8080/"
        },
        "id": "wB-ML88JtA4A",
        "outputId": "2fb542df-64da-40ae-909d-859c05fdfc11"
      },
      "id": "wB-ML88JtA4A",
      "execution_count": 4,
      "outputs": [
        {
          "output_type": "stream",
          "name": "stdout",
          "text": [
            "['classical', 'jazz', 'heavey metal']\n",
            "['classical', 'jazz', 'heavey metal']\n",
            "['classical', 'rock', 'jazz', 'folk', 'heavey metal', 'pop']\n",
            "['classical', 'rock', 'jazz', 'folk', 'heavey metal', 'pop']\n",
            "[0, 1, 2, 3, 4, 5, 6, 7, 8, 9]\n",
            "[0, 1, 2, 3, 4]\n",
            "['CLASSICAL', 'ROCK', 'JAZZ', 'FOLK', 'HEAVEY METAL', 'POP']\n",
            "['classical', 'rock', 'jazz', 'folk', 'heavey metal', 'pop']\n",
            "['classical', 'rock', 'jazz', 'folk', 'heavey metal', 'pop']\n"
          ]
        }
      ]
    },
    {
      "cell_type": "markdown",
      "source": [
        "# **`Short list`**"
      ],
      "metadata": {
        "id": "kZPy259nt_0M"
      },
      "id": "kZPy259nt_0M"
    },
    {
      "cell_type": "code",
      "source": [
        "\n",
        "genrelist = [\"classical\", \"rock\", \"jazz\", \"folk\", \"heavey metal\", \"pop\"]\n",
        "genrelist.sort()\n",
        "print(genrelist)\n",
        "\n",
        "genrelist.sort(key = str.upper)\n",
        "print(genrelist)\n",
        "\n",
        "genrelist.sort(reverse = True)\n",
        "print(genrelist)\n",
        "\n",
        "genrelist = [99, 59, 64, 81, 22]\n",
        "genrelist.sort()\n",
        "print(genrelist)\n",
        "\n",
        "genrelist.sort(reverse = True)\n",
        "print(genrelist)\n",
        "\n",
        "genrelist.sort(key = int)\n",
        "print(genrelist)\n",
        "\n",
        "genrelist.sort(reverse = True)\n",
        "print(genrelist)\n",
        "\n",
        "def myfunc(n):\n",
        "  return abs(n - 64)\n",
        "\n",
        "genrelist.sort(key = myfunc)\n",
        "print(genrelist)\n",
        "\n",
        "genrelist.sort()\n",
        "print(genrelist)\n",
        "\n",
        "genrelist.reverse()\n",
        "print(genrelist)"
      ],
      "metadata": {
        "colab": {
          "base_uri": "https://localhost:8080/"
        },
        "id": "UdxwEsyLuNXV",
        "outputId": "e470ad80-2e43-4f00-f326-432b2d07362c"
      },
      "id": "UdxwEsyLuNXV",
      "execution_count": 5,
      "outputs": [
        {
          "output_type": "stream",
          "name": "stdout",
          "text": [
            "['classical', 'folk', 'heavey metal', 'jazz', 'pop', 'rock']\n",
            "['classical', 'folk', 'heavey metal', 'jazz', 'pop', 'rock']\n",
            "['rock', 'pop', 'jazz', 'heavey metal', 'folk', 'classical']\n",
            "[22, 59, 64, 81, 99]\n",
            "[99, 81, 64, 59, 22]\n",
            "[22, 59, 64, 81, 99]\n",
            "[99, 81, 64, 59, 22]\n",
            "[64, 59, 81, 99, 22]\n",
            "[22, 59, 64, 81, 99]\n",
            "[99, 81, 64, 59, 22]\n"
          ]
        }
      ]
    },
    {
      "cell_type": "markdown",
      "source": [
        "# **`Copy List `**"
      ],
      "metadata": {
        "id": "IM46VJ4kZ368"
      },
      "id": "IM46VJ4kZ368"
    },
    {
      "cell_type": "code",
      "source": [
        "genre = [\"classical\", \"rock\", \"jazz\", \"folk\", \"heavey metal\", \"pop\"]\n",
        "music = genre.copy()\n",
        "print(music)\n",
        "\n",
        "genre = [\"classical\", \"rock\", \"jazz\", \"folk\"]\n",
        "music = list(genre)\n",
        "print(music)\n",
        "\n"
      ],
      "metadata": {
        "id": "GM-Cj_qWZ83F"
      },
      "id": "GM-Cj_qWZ83F",
      "execution_count": null,
      "outputs": []
    },
    {
      "cell_type": "markdown",
      "source": [
        "# **`Join Lists`**"
      ],
      "metadata": {
        "id": "_huJET2vatbW"
      },
      "id": "_huJET2vatbW"
    },
    {
      "cell_type": "code",
      "source": [
        "music_genre = [\"classical\", \"rock\", \"jazz\", \"folk\"]\n",
        "music_mood = [\"romantic\", \"sad\", \"sentimental\"]\n",
        "\n",
        "#type 1\n",
        "\n",
        "playlist = music_genre + music_mood\n",
        "print(playlist)\n",
        "\n",
        "#type 2\n",
        "\n",
        "for x in music_mood:\n",
        "  music_genre.append(x)\n",
        "\n",
        "print(music_genre)\n",
        "\n",
        "#type 3\n",
        "music_genre.extend(music_mood)\n",
        "print(music_genre)\n",
        "\n"
      ],
      "metadata": {
        "colab": {
          "base_uri": "https://localhost:8080/"
        },
        "id": "TgWMeC1abInh",
        "outputId": "672bde75-ea42-4f82-d119-d5e99f1cb8ff"
      },
      "id": "TgWMeC1abInh",
      "execution_count": 1,
      "outputs": [
        {
          "output_type": "stream",
          "name": "stdout",
          "text": [
            "['classical', 'rock', 'jazz', 'folk', 'romantic', 'sad', 'sentimental']\n",
            "['classical', 'rock', 'jazz', 'folk', 'romantic', 'sad', 'sentimental']\n",
            "['classical', 'rock', 'jazz', 'folk', 'romantic', 'sad', 'sentimental', 'romantic', 'sad', 'sentimental']\n"
          ]
        }
      ]
    },
    {
      "cell_type": "markdown",
      "source": [
        "# **`Negative indexing to print the item in the list.`**"
      ],
      "metadata": {
        "id": "0lZk54P4fSDt"
      },
      "id": "0lZk54P4fSDt"
    },
    {
      "cell_type": "code",
      "source": [
        "music_genre = [\"classical\", \"rock\", \"jazz\", \"folk\", \"heavey metal\", \"pop\"]\n",
        "print(music_genre[0])\n",
        "\n",
        "print(music_genre[-2])\n",
        "\n",
        "print(music_genre[3])"
      ],
      "metadata": {
        "colab": {
          "base_uri": "https://localhost:8080/"
        },
        "id": "nqrZsaY3fULj",
        "outputId": "818dffd4-0d7c-417b-f2ee-fdf5d1dde540"
      },
      "id": "nqrZsaY3fULj",
      "execution_count": 4,
      "outputs": [
        {
          "output_type": "stream",
          "name": "stdout",
          "text": [
            "classical\n",
            "heavey metal\n",
            "folk\n"
          ]
        }
      ]
    },
    {
      "cell_type": "markdown",
      "source": [
        "# **`Using the correct syntax to print the number of items in the list.`**"
      ],
      "metadata": {
        "id": "lU_OYxVKgnVc"
      },
      "id": "lU_OYxVKgnVc"
    },
    {
      "cell_type": "code",
      "source": [
        "music_genre = [\"classical\", \"rock\", \"jazz\", \"folk\", \"heavey metal\", \"pop\"]\n",
        "print(len(music_genre))"
      ],
      "metadata": {
        "id": "1F54GuDNgojF",
        "outputId": "2df12bf9-72b5-46fc-cee8-0d913a669021",
        "colab": {
          "base_uri": "https://localhost:8080/"
        }
      },
      "id": "1F54GuDNgojF",
      "execution_count": 5,
      "outputs": [
        {
          "output_type": "stream",
          "name": "stdout",
          "text": [
            "6\n"
          ]
        }
      ]
    }
  ],
  "metadata": {
    "kernelspec": {
      "display_name": "Python 3",
      "name": "python3"
    },
    "language_info": {
      "name": "python"
    },
    "colab": {
      "provenance": [],
      "name": "List_python",
      "include_colab_link": true
    }
  },
  "nbformat": 4,
  "nbformat_minor": 5
}
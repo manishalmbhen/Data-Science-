{
  "cells": [
    {
      "cell_type": "markdown",
      "metadata": {
        "id": "view-in-github",
        "colab_type": "text"
      },
      "source": [
        "<a href=\"https://colab.research.google.com/github/manishalmbhen/music/blob/main/chapter_appendix-tools-for-deep-learning/jupyter.ipynb\" target=\"_parent\"><img src=\"https://colab.research.google.com/assets/colab-badge.svg\" alt=\"Open In Colab\"/></a>"
      ]
    },
    {
      "cell_type": "code",
      "source": [
        "x = 3.5\n",
        "print(float(int(x)))"
      ],
      "metadata": {
        "colab": {
          "base_uri": "https://localhost:8080/"
        },
        "id": "BL6IGzhWXrVw",
        "outputId": "d8dbe8db-bf54-4702-de06-ea1c67a09a90"
      },
      "id": "BL6IGzhWXrVw",
      "execution_count": 3,
      "outputs": [
        {
          "output_type": "stream",
          "name": "stdout",
          "text": [
            "3.0\n"
          ]
        }
      ]
    },
    {
      "cell_type": "code",
      "source": [
        "name = \"Varma\"\n",
        "\n",
        "print(type(name))"
      ],
      "metadata": {
        "colab": {
          "base_uri": "https://localhost:8080/"
        },
        "id": "wfWyuldBYI7A",
        "outputId": "e88d5e13-4ff7-4d26-f719-ed2c6ada4320"
      },
      "id": "wfWyuldBYI7A",
      "execution_count": 36,
      "outputs": [
        {
          "output_type": "stream",
          "name": "stdout",
          "text": [
            "<class 'str'>\n"
          ]
        }
      ]
    },
    {
      "cell_type": "code",
      "source": [
        "x=3\n",
        "y=2.5\n",
        "z=5\n",
        "print(x+y/z)"
      ],
      "metadata": {
        "colab": {
          "base_uri": "https://localhost:8080/"
        },
        "id": "a59N-D2fZAGz",
        "outputId": "ac12a2e9-03f0-4228-b1ef-035a728c816e"
      },
      "id": "a59N-D2fZAGz",
      "execution_count": 6,
      "outputs": [
        {
          "output_type": "stream",
          "name": "stdout",
          "text": [
            "3.5\n"
          ]
        }
      ]
    },
    {
      "cell_type": "code",
      "source": [
        "x = 'len'\n",
        "x[len(x*2)- 6]"
      ],
      "metadata": {
        "colab": {
          "base_uri": "https://localhost:8080/",
          "height": 35
        },
        "id": "eV2ya6tvZW6S",
        "outputId": "e3026b39-758c-4655-f5d4-573ff0d41eaf"
      },
      "id": "eV2ya6tvZW6S",
      "execution_count": 12,
      "outputs": [
        {
          "output_type": "execute_result",
          "data": {
            "text/plain": [
              "'l'"
            ],
            "application/vnd.google.colaboratory.intrinsic+json": {
              "type": "string"
            }
          },
          "metadata": {},
          "execution_count": 12
        }
      ]
    },
    {
      "cell_type": "code",
      "source": [
        "age = 20\n",
        "My_age = (\"I am {} years old\".format(age))"
      ],
      "metadata": {
        "id": "3tAYtFurmnmz"
      },
      "id": "3tAYtFurmnmz",
      "execution_count": 37,
      "outputs": []
    },
    {
      "cell_type": "code",
      "source": [
        "My_age\n"
      ],
      "metadata": {
        "colab": {
          "base_uri": "https://localhost:8080/",
          "height": 35
        },
        "id": "ho7co3EGnPuF",
        "outputId": "275a2fc7-4fc3-440a-ccad-a5e982b9b3d7"
      },
      "id": "ho7co3EGnPuF",
      "execution_count": 19,
      "outputs": [
        {
          "output_type": "execute_result",
          "data": {
            "text/plain": [
              "'I am 20 years old'"
            ],
            "application/vnd.google.colaboratory.intrinsic+json": {
              "type": "string"
            }
          },
          "metadata": {},
          "execution_count": 19
        }
      ]
    },
    {
      "cell_type": "code",
      "source": [
        "A = 20\n",
        "B = 30\n",
        "C = 40\n",
        "items = (\"Aman {} years old. Manish {} years old. Rahul {} years old\".format(A,B,C))"
      ],
      "metadata": {
        "id": "fay8yl1bnr5-"
      },
      "id": "fay8yl1bnr5-",
      "execution_count": 38,
      "outputs": []
    },
    {
      "cell_type": "code",
      "source": [
        "items\n"
      ],
      "metadata": {
        "colab": {
          "base_uri": "https://localhost:8080/",
          "height": 35
        },
        "id": "HH0NCt7YoPGM",
        "outputId": "838f36e1-0ac6-489d-e0e9-1ed676c5a32c"
      },
      "id": "HH0NCt7YoPGM",
      "execution_count": 34,
      "outputs": [
        {
          "output_type": "execute_result",
          "data": {
            "text/plain": [
              "'Aman 20 years old. Manish 30 years old. Rahul 40 years old'"
            ],
            "application/vnd.google.colaboratory.intrinsic+json": {
              "type": "string"
            }
          },
          "metadata": {},
          "execution_count": 34
        }
      ]
    }
  ],
  "metadata": {
    "kernelspec": {
      "display_name": "Python 3",
      "name": "python3"
    },
    "language_info": {
      "name": "python"
    },
    "colab": {
      "provenance": [],
      "include_colab_link": true
    }
  },
  "nbformat": 4,
  "nbformat_minor": 5
}
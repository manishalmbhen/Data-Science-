{
  "cells": [
    {
      "cell_type": "code",
      "source": [
        "a = 33\n",
        "b = 200\n",
        "if b > a:\n",
        "  print(\"b is greater than a\")"
      ],
      "metadata": {
        "id": "-Je_Jz_lQS2_",
        "outputId": "ebf831ea-6b56-4f02-9639-b53e67bd5116",
        "colab": {
          "base_uri": "https://localhost:8080/"
        }
      },
      "id": "-Je_Jz_lQS2_",
      "execution_count": 1,
      "outputs": [
        {
          "output_type": "stream",
          "name": "stdout",
          "text": [
            "b is greater than a\n"
          ]
        }
      ]
    },
    {
      "cell_type": "code",
      "source": [
        "thistuple = (\"apple\", \"banana\", \"cherry\", \"orange\", \"kiwi\", \"melon\", \"mango\")\n",
        "print(thistuple[:4])"
      ],
      "metadata": {
        "id": "lu98YTPRgdTN",
        "outputId": "2cb7e44e-6498-4525-ccfa-a13ee6f97c9c",
        "colab": {
          "base_uri": "https://localhost:8080/"
        }
      },
      "id": "lu98YTPRgdTN",
      "execution_count": 15,
      "outputs": [
        {
          "output_type": "stream",
          "name": "stdout",
          "text": [
            "('apple', 'banana', 'cherry', 'orange')\n"
          ]
        }
      ]
    },
    {
      "cell_type": "code",
      "source": [
        "thistuple = (\"apple\", \"banana\", \"cherry\")\n",
        "if \"apple\" in thistuple:\n",
        "  print(\"Yes, 'apple' is in the fruits tuple\")"
      ],
      "metadata": {
        "id": "woaH8kyqmBCF",
        "outputId": "0a085855-73e4-4191-9cc1-5b631b905f34",
        "colab": {
          "base_uri": "https://localhost:8080/"
        }
      },
      "id": "woaH8kyqmBCF",
      "execution_count": 1,
      "outputs": [
        {
          "output_type": "stream",
          "name": "stdout",
          "text": [
            "Yes, 'apple' is in the fruits tuple\n"
          ]
        }
      ]
    },
    {
      "cell_type": "code",
      "source": [
        "Manish = 33\n",
        "Sharma = 33\n",
        "if Manish > Sharma:\n",
        "  print(\"Manish is greater than Sharma\")\n",
        "elif Manish == Sharma:\n",
        "  print(\"Manish and Sharma are equal\")"
      ],
      "metadata": {
        "id": "3zvfnWePDxVa",
        "outputId": "6891d614-5021-4531-c2dc-cdf5b2e30969",
        "colab": {
          "base_uri": "https://localhost:8080/"
        }
      },
      "id": "3zvfnWePDxVa",
      "execution_count": 3,
      "outputs": [
        {
          "output_type": "stream",
          "name": "stdout",
          "text": [
            "Manish and Sharma are equal\n"
          ]
        }
      ]
    },
    {
      "cell_type": "code",
      "source": [
        "instrument = \"guitar\"\n",
        "music = \"classical\"\n",
        "if instrument > music:\n",
        "   print(\"Classical music will be played with Guitar\")"
      ],
      "metadata": {
        "id": "b-UXQOL8ENqT",
        "outputId": "ec437e5b-604d-4fca-aa35-fa021d5b6cb3",
        "colab": {
          "base_uri": "https://localhost:8080/"
        }
      },
      "id": "b-UXQOL8ENqT",
      "execution_count": 5,
      "outputs": [
        {
          "output_type": "stream",
          "name": "stdout",
          "text": [
            "Classical music will be played with Guitar\n"
          ]
        }
      ]
    },
    {
      "cell_type": "code",
      "source": [
        "def fun():\n",
        "    print(\"Welcome to GFG\")\n",
        ""
      ],
      "metadata": {
        "id": "UiD6EjnoJKMx"
      },
      "id": "UiD6EjnoJKMx",
      "execution_count": 6,
      "outputs": []
    },
    {
      "cell_type": "code",
      "source": [
        "fun\n"
      ],
      "metadata": {
        "id": "ce7AYW95JQw0",
        "outputId": "dac6a2e4-dcb8-41cc-b302-1c1212903e56",
        "colab": {
          "base_uri": "https://localhost:8080/"
        }
      },
      "id": "ce7AYW95JQw0",
      "execution_count": 7,
      "outputs": [
        {
          "output_type": "execute_result",
          "data": {
            "text/plain": [
              "<function __main__.fun()>"
            ]
          },
          "metadata": {},
          "execution_count": 7
        }
      ]
    },
    {
      "cell_type": "code",
      "source": [
        "def add_numbers(num1, num2):\n",
        "    sum = num1 + num2\n",
        "    return sum\n",
        "\n",
        "result = add_numbers(5, 4)\n",
        "\n",
        "print('Sum: ', result)\n"
      ],
      "metadata": {
        "id": "3lrgaSJNJasZ",
        "outputId": "6940d3c4-b841-40d0-f339-45887b67f97f",
        "colab": {
          "base_uri": "https://localhost:8080/"
        }
      },
      "id": "3lrgaSJNJasZ",
      "execution_count": 8,
      "outputs": [
        {
          "output_type": "stream",
          "name": "stdout",
          "text": [
            "Sum:  9\n"
          ]
        }
      ]
    },
    {
      "cell_type": "code",
      "source": [
        "def add_numbers(num1, num2):\n",
        "    sum = num1 + num2\n",
        "    return sum\n",
        "\n",
        "results = add_numbers(10, 15)\n",
        "print('sum:', result)"
      ],
      "metadata": {
        "id": "hMmsKsqxL2-Z",
        "outputId": "96d51399-a66e-4b17-ee8d-0e53bd14a080",
        "colab": {
          "base_uri": "https://localhost:8080/"
        }
      },
      "id": "hMmsKsqxL2-Z",
      "execution_count": 11,
      "outputs": [
        {
          "output_type": "stream",
          "name": "stdout",
          "text": [
            "sum: 9\n"
          ]
        }
      ]
    },
    {
      "cell_type": "code",
      "source": [
        "import math\n",
        "\n",
        "# sqrt computes the square root\n",
        "square_root = math.sqrt(4)\n",
        "\n",
        "print(\"Square Root of 4 is\",square_root)\n",
        "\n",
        "# pow() comptes the power\n",
        "power = pow(2, 3)\n",
        "\n",
        "print(\"2 to the power 3 is\",power)"
      ],
      "metadata": {
        "id": "Do9rPL_5MjVb",
        "outputId": "587e13eb-e15d-45e3-c11a-3b148d032da5",
        "colab": {
          "base_uri": "https://localhost:8080/"
        }
      },
      "id": "Do9rPL_5MjVb",
      "execution_count": 12,
      "outputs": [
        {
          "output_type": "stream",
          "name": "stdout",
          "text": [
            "Square Root of 4 is 2.0\n",
            "2 to the power 3 is 8\n"
          ]
        }
      ]
    },
    {
      "cell_type": "code",
      "source": [
        "import math\n",
        "\n",
        "# sqrt computes the square root\n",
        "square_root = math.sqrt(3)\n",
        "\n",
        "print(\"Square Root of 3 is\",square_root)\n",
        "\n",
        "# pow() comptes the power\n",
        "power = pow(10, 3)\n",
        "\n",
        "print(\"10 to the power 3 is\",power)"
      ],
      "metadata": {
        "id": "1-Xv1aN5MmdB",
        "outputId": "265808fe-bd5a-4fa9-f85b-d613fa780193",
        "colab": {
          "base_uri": "https://localhost:8080/"
        }
      },
      "id": "1-Xv1aN5MmdB",
      "execution_count": 13,
      "outputs": [
        {
          "output_type": "stream",
          "name": "stdout",
          "text": [
            "Square Root of 3 is 1.7320508075688772\n",
            "10 to the power 3 is 1000\n"
          ]
        }
      ]
    },
    {
      "cell_type": "code",
      "source": [
        "import math\n",
        "square_root = math.sqrt(2)\n",
        "print(\"Square root of 2 is\",square_root)"
      ],
      "metadata": {
        "id": "fnNCKvH2M0nI",
        "outputId": "3287bb1a-bb11-4207-ea60-77cce5d11f4d",
        "colab": {
          "base_uri": "https://localhost:8080/"
        }
      },
      "id": "fnNCKvH2M0nI",
      "execution_count": 16,
      "outputs": [
        {
          "output_type": "stream",
          "name": "stdout",
          "text": [
            "Square root of 2 is 1.4142135623730951\n"
          ]
        }
      ]
    },
    {
      "cell_type": "code",
      "source": [
        "def get_square(num):\n",
        "    return num * num\n",
        "\n",
        "for i in [1,2,3]:\n",
        "    # function call\n",
        "    result = get_square(i)\n",
        "    print('Square of',i, '=',result)"
      ],
      "metadata": {
        "id": "FMX4T7GBNwx_"
      },
      "id": "FMX4T7GBNwx_",
      "execution_count": null,
      "outputs": []
    }
  ],
  "metadata": {
    "kernelspec": {
      "display_name": "Python 3",
      "name": "python3"
    },
    "language_info": {
      "name": "python"
    },
    "colab": {
      "provenance": []
    }
  },
  "nbformat": 4,
  "nbformat_minor": 5
}
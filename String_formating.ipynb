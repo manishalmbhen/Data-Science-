{
  "nbformat": 4,
  "nbformat_minor": 0,
  "metadata": {
    "colab": {
      "provenance": [],
      "authorship_tag": "ABX9TyOtL7ypoP3RR4ibJhUnFfQp",
      "include_colab_link": true
    },
    "kernelspec": {
      "name": "python3",
      "display_name": "Python 3"
    },
    "language_info": {
      "name": "python"
    }
  },
  "cells": [
    {
      "cell_type": "markdown",
      "metadata": {
        "id": "view-in-github",
        "colab_type": "text"
      },
      "source": [
        "<a href=\"https://colab.research.google.com/github/manishalmbhen/music/blob/main/String_formating.ipynb\" target=\"_parent\"><img src=\"https://colab.research.google.com/assets/colab-badge.svg\" alt=\"Open In Colab\"/></a>"
      ]
    },
    {
      "cell_type": "code",
      "execution_count": 1,
      "metadata": {
        "colab": {
          "base_uri": "https://localhost:8080/"
        },
        "id": "Ebe9aYBcxaAY",
        "outputId": "0b5becde-f1b7-4242-8369-9a6b48c6980d"
      },
      "outputs": [
        {
          "output_type": "stream",
          "name": "stdout",
          "text": [
            "My age is 30\n"
          ]
        }
      ],
      "source": [
        "age = 30\n",
        "txt = (\"My age is {}\")\n",
        "print(txt.format(age))"
      ]
    },
    {
      "cell_type": "code",
      "source": [
        "quantity = 4\n",
        "itemno = 23\n",
        "price = 50\n",
        "myorder = \"I want {} pieces of item {} for {} dollars.\"\n",
        "print(myorder.format(quantity, itemno, price))"
      ],
      "metadata": {
        "colab": {
          "base_uri": "https://localhost:8080/"
        },
        "id": "D56miQ9kxk_w",
        "outputId": "43bb9194-98cb-43a6-dd96-b58951c59a84"
      },
      "execution_count": 2,
      "outputs": [
        {
          "output_type": "stream",
          "name": "stdout",
          "text": [
            "I want 4 pieces of item 23 for 50 dollars.\n"
          ]
        }
      ]
    },
    {
      "cell_type": "code",
      "source": [
        "tickts = 200\n",
        "persons = 100\n",
        "price = 3\n",
        "myorder = \"you have to sell {} tickts to {} people in {} dollars.\"\n",
        "print(myorder.format(tickts, persons, price))"
      ],
      "metadata": {
        "colab": {
          "base_uri": "https://localhost:8080/"
        },
        "id": "u0-m1DtYxxKF",
        "outputId": "38362fb1-bad4-42e5-9bdc-9c041f86e3ce"
      },
      "execution_count": 5,
      "outputs": [
        {
          "output_type": "stream",
          "name": "stdout",
          "text": [
            "you have to sell 200 tickts to 100 people in 3 dollars.\n"
          ]
        }
      ]
    }
  ]
}